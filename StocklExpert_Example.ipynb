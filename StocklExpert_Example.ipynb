#Use scyktkit Fuzzy for develop a Experet System to a stock Operation
